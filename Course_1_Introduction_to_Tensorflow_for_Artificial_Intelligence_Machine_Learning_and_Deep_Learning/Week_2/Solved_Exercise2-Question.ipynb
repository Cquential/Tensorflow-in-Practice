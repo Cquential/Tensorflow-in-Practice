{
 "cells": [
  {
   "cell_type": "markdown",
   "metadata": {
    "colab_type": "text",
    "id": "tOoyQ70H00_s"
   },
   "source": [
    "## Exercise 2\n",
    "In the course you learned how to do classificaiton using Fashion MNIST, a data set containing items of clothing. There's another, similar dataset called MNIST which has items of handwriting -- the digits 0 through 9.\n",
    "\n",
    "Write an MNIST classifier that trains to 99% accuracy or above, and does it without a fixed number of epochs -- i.e. you should stop training once you reach that level of accuracy.\n",
    "\n",
    "Some notes:\n",
    "1. It should succeed in less than 10 epochs, so it is okay to change epochs= to 10, but nothing larger\n",
    "2. When it reaches 99% or greater it should print out the string \"Reached 99% accuracy so cancelling training!\"\n",
    "3. If you add any additional variables, make sure you use the same names as the ones used in the class\n",
    "\n",
    "I've started the code for you below -- how would you finish it? "
   ]
  },
  {
   "cell_type": "code",
   "execution_count": 1,
   "metadata": {},
   "outputs": [],
   "source": [
    "import tensorflow as tf\n",
    "from os import path, getcwd, chdir\n",
    "\n",
    "# DO NOT CHANGE THE LINE BELOW. If you are developing in a local\n",
    "# environment, then grab mnist.npz from the Coursera Jupyter Notebook\n",
    "# and place it inside a local folder and edit the path to that location\n",
    "path = f\"{getcwd()}/../tmp2/mnist.npz\""
   ]
  },
  {
   "cell_type": "code",
   "execution_count": 6,
   "metadata": {
    "colab": {},
    "colab_type": "code",
    "id": "9rvXQGAA0ssC"
   },
   "outputs": [],
   "source": [
    "# GRADED FUNCTION: train_mnist\n",
    "def train_mnist():\n",
    "    # Please write your code only where you are indicated.\n",
    "    # please do not remove # model fitting inline comments.\n",
    "\n",
    "    # YOUR CODE SHOULD START HERE\n",
    "    epochs = 9\n",
    "    # YOUR CODE SHOULD END HERE\n",
    "\n",
    "    mnist = tf.keras.datasets.mnist\n",
    "\n",
    "    (x_train, y_train),(x_test, y_test) = mnist.load_data(path=path)\n",
    "    # YOUR CODE SHOULD START HERE\n",
    "    x_train = x_train / 255.\n",
    "    x_test  = x_test  / 255.\n",
    "    # YOUR CODE SHOULD END HERE\n",
    "    model = tf.keras.models.Sequential([\n",
    "        # YOUR CODE SHOULD START HERE\n",
    "        tf.keras.layers.Flatten(),\n",
    "        tf.keras.layers.Dense(128, activation= tf.nn.relu),\n",
    "        tf.keras.layers.Dense(10, activation = tf.nn.softmax)\n",
    "        # YOUR CODE SHOULD END HERE\n",
    "    ])\n",
    "\n",
    "    model.compile(optimizer='adam',\n",
    "                  loss='sparse_categorical_crossentropy',\n",
    "                  metrics=['accuracy'])\n",
    "    \n",
    "    # model fitting\n",
    "    history = model.fit(# YOUR CODE SHOULD START HERE\n",
    "        x_train, y_train, epochs = epochs\n",
    "              # YOUR CODE SHOULD END HERE\n",
    "    )\n",
    "    # model fitting\n",
    "    return history.epoch, history.history['acc'][-1]"
   ]
  },
  {
   "cell_type": "code",
   "execution_count": 7,
   "metadata": {
    "colab": {},
    "colab_type": "code",
    "id": "9rvXQGAA0ssC"
   },
   "outputs": [
    {
     "name": "stderr",
     "output_type": "stream",
     "text": [
      "WARNING: Logging before flag parsing goes to stderr.\n",
      "W0507 06:09:59.954236 139891896846144 deprecation.py:506] From /usr/local/lib/python3.6/dist-packages/tensorflow/python/ops/init_ops.py:1251: calling VarianceScaling.__init__ (from tensorflow.python.ops.init_ops) with dtype is deprecated and will be removed in a future version.\n",
      "Instructions for updating:\n",
      "Call initializer instance with the dtype argument instead of passing it to the constructor\n"
     ]
    },
    {
     "name": "stdout",
     "output_type": "stream",
     "text": [
      "Epoch 1/20\n",
      "60000/60000 [==============================] - 17s 283us/sample - loss: 0.2616 - acc: 0.9262\n",
      "Epoch 2/20\n",
      "60000/60000 [==============================] - 15s 255us/sample - loss: 0.1116 - acc: 0.9671\n",
      "Epoch 3/20\n",
      "60000/60000 [==============================] - 15s 252us/sample - loss: 0.0766 - acc: 0.9768\n",
      "Epoch 4/20\n",
      "60000/60000 [==============================] - 17s 277us/sample - loss: 0.0565 - acc: 0.9826\n",
      "Epoch 5/20\n",
      "60000/60000 [==============================] - 16s 273us/sample - loss: 0.0446 - acc: 0.9861\n",
      "Epoch 6/20\n",
      "60000/60000 [==============================] - 17s 287us/sample - loss: 0.0346 - acc: 0.9888\n",
      "Epoch 7/20\n",
      "60000/60000 [==============================] - 17s 275us/sample - loss: 0.0286 - acc: 0.9907\n",
      "Epoch 8/20\n",
      "60000/60000 [==============================] - 16s 275us/sample - loss: 0.0225 - acc: 0.9930\n",
      "Epoch 9/20\n",
      "60000/60000 [==============================] - 16s 272us/sample - loss: 0.0181 - acc: 0.9945\n",
      "Epoch 10/20\n",
      "60000/60000 [==============================] - 16s 275us/sample - loss: 0.0166 - acc: 0.9950\n",
      "Epoch 11/20\n",
      "60000/60000 [==============================] - 17s 275us/sample - loss: 0.0134 - acc: 0.9960\n",
      "Epoch 12/20\n",
      "60000/60000 [==============================] - 17s 280us/sample - loss: 0.0118 - acc: 0.9963\n",
      "Epoch 13/20\n",
      "60000/60000 [==============================] - 16s 273us/sample - loss: 0.0096 - acc: 0.9969\n",
      "Epoch 14/20\n",
      "60000/60000 [==============================] - 16s 267us/sample - loss: 0.0091 - acc: 0.9971\n",
      "Epoch 15/20\n",
      "60000/60000 [==============================] - 15s 253us/sample - loss: 0.0096 - acc: 0.9969\n",
      "Epoch 16/20\n",
      "60000/60000 [==============================] - 15s 253us/sample - loss: 0.0067 - acc: 0.9981\n",
      "Epoch 17/20\n",
      "60000/60000 [==============================] - 15s 253us/sample - loss: 0.0071 - acc: 0.9976\n",
      "Epoch 18/20\n",
      "60000/60000 [==============================] - 15s 253us/sample - loss: 0.0054 - acc: 0.9982\n",
      "Epoch 19/20\n",
      "60000/60000 [==============================] - 15s 253us/sample - loss: 0.0073 - acc: 0.9977\n",
      "Epoch 20/20\n",
      "60000/60000 [==============================] - 15s 255us/sample - loss: 0.0050 - acc: 0.9984\n"
     ]
    },
    {
     "data": {
      "text/plain": [
       "([0, 1, 2, 3, 4, 5, 6, 7, 8, 9, 10, 11, 12, 13, 14, 15, 16, 17, 18, 19],\n",
       " 0.99836665)"
      ]
     },
     "execution_count": 7,
     "metadata": {},
     "output_type": "execute_result"
    }
   ],
   "source": [
    "train_mnist()"
   ]
  },
  {
   "cell_type": "code",
   "execution_count": 4,
   "metadata": {},
   "outputs": [],
   "source": [
    "# Now click the 'Submit Assignment' button above.\n",
    "# Once that is complete, please run the following two cells to save your work and close the notebook"
   ]
  },
  {
   "cell_type": "code",
   "execution_count": null,
   "metadata": {},
   "outputs": [],
   "source": []
  },
  {
   "cell_type": "code",
   "execution_count": null,
   "metadata": {},
   "outputs": [],
   "source": []
  }
 ],
 "metadata": {
  "coursera": {
   "course_slug": "introduction-tensorflow",
   "graded_item_id": "d6dew",
   "launcher_item_id": "FExZ4"
  },
  "kernelspec": {
   "display_name": "Python 3",
   "language": "python",
   "name": "python3"
  },
  "language_info": {
   "codemirror_mode": {
    "name": "ipython",
    "version": 3
   },
   "file_extension": ".py",
   "mimetype": "text/x-python",
   "name": "python",
   "nbconvert_exporter": "python",
   "pygments_lexer": "ipython3",
   "version": "3.6.8"
  }
 },
 "nbformat": 4,
 "nbformat_minor": 1
}
